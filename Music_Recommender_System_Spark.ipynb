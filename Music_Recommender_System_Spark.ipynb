{
  "nbformat": 4,
  "nbformat_minor": 0,
  "metadata": {
    "colab": {
      "provenance": []
    },
    "kernelspec": {
      "name": "python3",
      "display_name": "Python 3"
    },
    "language_info": {
      "name": "python"
    }
  },
  "cells": [
    {
      "cell_type": "markdown",
      "source": [
        "___Next Part---\n"
      ],
      "metadata": {
        "id": "HAz7ciWOxqfj"
      }
    },
    {
      "cell_type": "code",
      "source": [
        "# Step 1: PySpark Setup (Skip if already done)\n",
        "!apt-get install openjdk-8-jdk-headless -qq > /dev/null\n",
        "!wget -q https://downloads.apache.org/spark/spark-3.4.1/spark-3.4.1-bin-hadoop3.tgz\n",
        "!tar xf spark-3.4.1-bin-hadoop3.tgz\n",
        "!pip install -q findspark\n",
        "\n",
        "import os\n",
        "os.environ[\"JAVA_HOME\"] = \"/usr/lib/jvm/java-8-openjdk-amd64\"\n",
        "os.environ[\"SPARK_HOME\"] = \"/content/spark-3.4.1-bin-hadoop3\"\n",
        "\n",
        "import findspark\n",
        "findspark.init()\n",
        "\n",
        "from pyspark.sql import SparkSession\n",
        "spark = SparkSession.builder.appName(\"SpotifyContentBased\").getOrCreate()"
      ],
      "metadata": {
        "id": "JBYzoDMRxuCh"
      },
      "execution_count": null,
      "outputs": []
    },
    {
      "cell_type": "code",
      "source": [
        "spotify_df = spark.read.csv(\"/content/spotify_millsongdata.csv\", header=True, inferSchema=True)\n",
        "spotify_df.printSchema()\n",
        "spotify_df.show(5)\n"
      ],
      "metadata": {
        "colab": {
          "base_uri": "https://localhost:8080/"
        },
        "id": "st1vfeOEx_Md",
        "outputId": "e35934ba-e7d2-4255-b0e2-474fb09810b8"
      },
      "execution_count": null,
      "outputs": [
        {
          "output_type": "stream",
          "name": "stdout",
          "text": [
            "root\n",
            " |-- artist: string (nullable = true)\n",
            " |-- song: string (nullable = true)\n",
            " |-- link: string (nullable = true)\n",
            " |-- text: string (nullable = true)\n",
            "\n",
            "+--------------------+--------------------+--------------------+--------------------+\n",
            "|              artist|                song|                link|                text|\n",
            "+--------------------+--------------------+--------------------+--------------------+\n",
            "|                ABBA|Ahe's My Kind Of ...|/a/abba/ahes+my+k...|Look at her face,...|\n",
            "|And it means some...|                null|                null|                null|\n",
            "|Look at the way t...|                null|                null|                null|\n",
            "|How lucky can one...|                null|                null|                null|\n",
            "|She's just my kin...| she makes me fee...|                null|                null|\n",
            "+--------------------+--------------------+--------------------+--------------------+\n",
            "only showing top 5 rows\n",
            "\n"
          ]
        }
      ]
    },
    {
      "cell_type": "code",
      "source": [
        "from pyspark.sql.functions import col\n",
        "\n",
        "# Drop rows with nulls in the 'text' column and cast to string\n",
        "spotify_df_clean = spotify_df.filter(col(\"text\").isNotNull()).withColumn(\"text\", col(\"text\").cast(\"string\"))\n",
        "\n",
        "# Tokenize song text\n",
        "tokenizer = Tokenizer(inputCol=\"text\", outputCol=\"words\")\n",
        "words_data = tokenizer.transform(spotify_df_clean)\n",
        "\n",
        "# Remove stopwords\n",
        "remover = StopWordsRemover(inputCol=\"words\", outputCol=\"filtered_words\")\n",
        "filtered_data = remover.transform(words_data)\n",
        "\n",
        "# Convert text to TF features\n",
        "from pyspark.ml.feature import HashingTF, IDF, Normalizer\n",
        "hashingTF = HashingTF(inputCol=\"filtered_words\", outputCol=\"raw_features\", numFeatures=10000)\n",
        "featurized_data = hashingTF.transform(filtered_data)\n",
        "\n",
        "# Compute IDF and TF-IDF\n",
        "idf = IDF(inputCol=\"raw_features\", outputCol=\"features\")\n",
        "idf_model = idf.fit(featurized_data)\n",
        "rescaled_data = idf_model.transform(featurized_data)\n",
        "\n",
        "# Normalize the vectors\n",
        "normalizer = Normalizer(inputCol=\"features\", outputCol=\"norm_features\")\n",
        "feature_df = normalizer.transform(rescaled_data)\n",
        "\n",
        "# Show sample features\n",
        "feature_df.select(\"song\", \"norm_features\").show(5, truncate=False)\n"
      ],
      "metadata": {
        "colab": {
          "base_uri": "https://localhost:8080/"
        },
        "id": "KuJ1u5BoyKLE",
        "outputId": "5b9dcc3e-ccd1-407d-ecec-09f834c6b573"
      },
      "execution_count": null,
      "outputs": [
        {
          "output_type": "stream",
          "name": "stdout",
          "text": [
            "+---------------------+-------------------------------------------------------------------------------------------------------------------------------------------------------------+\n",
            "|song                 |norm_features                                                                                                                                                |\n",
            "+---------------------+-------------------------------------------------------------------------------------------------------------------------------------------------------------+\n",
            "|Ahe's My Kind Of Girl|(10000,[4034,5825,8881,9939],[0.41897927644876937,0.6108256664678718,0.5709601224907664,0.35405212838772054])                                                |\n",
            "|Andante, Andante     |(10000,[760,855,4928,7017],[0.5473989376671548,0.4282587180383883,0.5363405191786913,0.4788399742629246])                                                    |\n",
            "|As Good As New       |(10000,[281,6451,7779],[0.6236154426473773,0.5754498581651177,0.5291136365937484])                                                                           |\n",
            "|Bang                 |(10000,[855,2947,3089,3783,5347,7061],[0.30491958939003705,0.517294309650973,0.41576694095255234,0.29899778726260984,0.4131611987281375,0.45438600231244236])|\n",
            "|Bang-A-Boomerang     |(10000,[855,2947,3089,3783,5347,7061],[0.30491958939003705,0.517294309650973,0.41576694095255234,0.29899778726260984,0.4131611987281375,0.45438600231244236])|\n",
            "+---------------------+-------------------------------------------------------------------------------------------------------------------------------------------------------------+\n",
            "only showing top 5 rows\n",
            "\n"
          ]
        }
      ]
    },
    {
      "cell_type": "code",
      "source": [
        "from pyspark.ml.linalg import Vectors, DenseVector\n",
        "from pyspark.sql.functions import udf\n",
        "from pyspark.sql.types import FloatType\n",
        "\n",
        "# Convert DenseVector to list\n",
        "def cosine_similarity(v1, v2):\n",
        "    dot_product = float(v1.dot(v2))\n",
        "    norm1 = float(v1.norm(2))\n",
        "    norm2 = float(v2.norm(2))\n",
        "    if norm1 == 0.0 or norm2 == 0.0:\n",
        "        return 0.0\n",
        "    return dot_product / (norm1 * norm2)\n",
        "\n",
        "# UDF to compute similarity with a given song vector\n",
        "cosine_sim_udf = udf(lambda x: cosine_similarity(reference_vector_broadcast.value, x), FloatType())\n",
        "\n",
        "# Pick a reference song\n",
        "reference_song = \"Andante, Andante\"\n",
        "ref_vector = feature_df.filter(col(\"song\") == reference_song).select(\"norm_features\").first()[\"norm_features\"]\n",
        "\n",
        "# Broadcast the vector for efficiency\n",
        "reference_vector_broadcast = spark.sparkContext.broadcast(ref_vector)\n",
        "\n",
        "# Add similarity scores\n",
        "similar_songs = feature_df.withColumn(\"similarity\", cosine_sim_udf(col(\"norm_features\")))\n",
        "\n",
        "# Get top 5 similar songs (excluding the song itself)\n",
        "top_similar = similar_songs.filter(col(\"song\") != reference_song).orderBy(col(\"similarity\").desc())\n",
        "\n",
        "top_similar.select(\"song\", \"similarity\").show(5, truncate=False)\n"
      ],
      "metadata": {
        "colab": {
          "base_uri": "https://localhost:8080/"
        },
        "id": "OiZMwvfrzMQz",
        "outputId": "1b67d6bf-ad58-4826-d3d4-06f6ec9bdb36"
      },
      "execution_count": null,
      "outputs": [
        {
          "output_type": "stream",
          "name": "stdout",
          "text": [
            "+--------------------------+----------+\n",
            "|song                      |similarity|\n",
            "+--------------------------+----------+\n",
            "|Olive Me                  |0.64241207|\n",
            "|Take Me                   |0.6074708 |\n",
            "|In Limbo                  |0.57636666|\n",
            "|Come Into My Life         |0.5473989 |\n",
            "|Don't Cry For Me Argentina|0.5473989 |\n",
            "+--------------------------+----------+\n",
            "only showing top 5 rows\n",
            "\n"
          ]
        }
      ]
    }
  ]
}